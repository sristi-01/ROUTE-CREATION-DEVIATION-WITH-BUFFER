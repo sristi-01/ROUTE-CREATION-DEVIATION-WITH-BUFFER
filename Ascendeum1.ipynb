{
  "nbformat": 4,
  "nbformat_minor": 0,
  "metadata": {
    "colab": {
      "name": "Ascendeum1.ipynb",
      "provenance": [],
      "collapsed_sections": [],
      "authorship_tag": "ABX9TyPlusan1grYL/UdkVSu0wxb",
      "include_colab_link": true
    },
    "kernelspec": {
      "name": "python3",
      "display_name": "Python 3"
    }
  },
  "cells": [
    {
      "cell_type": "markdown",
      "metadata": {
        "id": "view-in-github",
        "colab_type": "text"
      },
      "source": [
        "<a href=\"https://colab.research.google.com/github/sristi-01/ROUTE-CREATION-DEVIATION-WITH-BUFFER/blob/master/Ascendeum1.ipynb\" target=\"_parent\"><img src=\"https://colab.research.google.com/assets/colab-badge.svg\" alt=\"Open In Colab\"/></a>"
      ]
    },
    {
      "cell_type": "code",
      "metadata": {
        "id": "naXLQ1b4E0Jl",
        "colab_type": "code",
        "colab": {
          "base_uri": "https://localhost:8080/",
          "height": 1000
        },
        "outputId": "f5e58d4b-2dc5-481c-9fa9-6a2664ab10b7"
      },
      "source": [
        " import numpy as np\n",
        "import pandas as pd\n",
        "import itertools\n",
        "from sklearn.model_selection import train_test_split\n",
        "from sklearn.feature_extraction.text import TfidfVectorizer\n",
        "from sklearn.linear_model import PassiveAggressiveClassifier\n",
        "from sklearn.metrics import accuracy_score, confusion_matrix\n",
        "df=pd.read_csv('//content//Ascendeum_Dataset2.csv')\n",
        "print(df.shape)\n",
        "print(df.head())\n",
        "print(df.describe())\n",
        "print(list(df.columns.values))\n",
        "print(df.isnull().sum().sum())\n",
        "print(df.isnull().sum())\n",
        "print(df.notnull())\n",
        "print(df.notnull().sum())\n",
        "Df=df[[\"date\", \"site_id\", 'ad_type_id', 'geo_id', 'device_category_id', 'advertiser_id','os_id', 'integration_type_id', 'monetization_channel_id', 'ad_unit_id', 'total_impressions', 'total_revenue', 'viewable_impressions', 'measurable_impressions', 'revenue_share_percent']]\n",
        "print(list(Df.columns.values))\n",
        "print(len(Df))\n",
        "Assumed_Growth_Rate = float(input(\"Enter value of assumed growth rate = \"))\n",
        "June_public_Revenue = float(input(\"Enter value of June public revenue =\"))\n",
        "July_public_Revenue = June_public_Revenue + ( (Assumed_Growth_Rate) * June_public_Revenue)\n",
        "print(July_public_Revenue)\n",
        " \n",
        "Assumed_June_Reserve_Price= float(input(\"Enter value of Assumed_June_Reserve_Price=\"))\n",
        "July_Reserve_Price = Assumed_June_Reserve_Price + (Assumed_June_Reserve_Price *  Assumed_Growth_Rate)\n",
        "print(July_Reserve_Price)"
      ],
      "execution_count": 2,
      "outputs": [
        {
          "output_type": "stream",
          "text": [
            "(89420, 17)\n",
            "                  date  site_id  ...  measurable_impressions  revenue_share_percent\n",
            "0  2019-06-30 00:00:00    351.0  ...                    16.0                    1.0\n",
            "1  2019-06-30 00:00:00    351.0  ...                     6.0                    1.0\n",
            "2  2019-06-30 00:00:00    351.0  ...                     4.0                    1.0\n",
            "3  2019-06-30 00:00:00    351.0  ...                     4.0                    1.0\n",
            "4  2019-06-30 00:00:00    348.0  ...                     4.0                    1.0\n",
            "\n",
            "[5 rows x 17 columns]\n",
            "            site_id  ...  revenue_share_percent\n",
            "count  89419.000000  ...                89419.0\n",
            "mean     347.102014  ...                    1.0\n",
            "std        2.943965  ...                    0.0\n",
            "min      342.000000  ...                    1.0\n",
            "25%      345.000000  ...                    1.0\n",
            "50%      346.000000  ...                    1.0\n",
            "75%      350.000000  ...                    1.0\n",
            "max      351.000000  ...                    1.0\n",
            "\n",
            "[8 rows x 16 columns]\n",
            "['date', 'site_id', 'ad_type_id', 'geo_id', 'device_category_id', 'advertiser_id', 'order_id', 'line_item_type_id', 'os_id', 'integration_type_id', 'monetization_channel_id', 'ad_unit_id', 'total_impressions', 'total_revenue', 'viewable_impressions', 'measurable_impressions', 'revenue_share_percent']\n",
            "16\n",
            "date                       0\n",
            "site_id                    1\n",
            "ad_type_id                 1\n",
            "geo_id                     1\n",
            "device_category_id         1\n",
            "advertiser_id              1\n",
            "order_id                   1\n",
            "line_item_type_id          1\n",
            "os_id                      1\n",
            "integration_type_id        1\n",
            "monetization_channel_id    1\n",
            "ad_unit_id                 1\n",
            "total_impressions          1\n",
            "total_revenue              1\n",
            "viewable_impressions       1\n",
            "measurable_impressions     1\n",
            "revenue_share_percent      1\n",
            "dtype: int64\n",
            "       date  site_id  ...  measurable_impressions  revenue_share_percent\n",
            "0      True     True  ...                    True                   True\n",
            "1      True     True  ...                    True                   True\n",
            "2      True     True  ...                    True                   True\n",
            "3      True     True  ...                    True                   True\n",
            "4      True     True  ...                    True                   True\n",
            "...     ...      ...  ...                     ...                    ...\n",
            "89415  True     True  ...                    True                   True\n",
            "89416  True     True  ...                    True                   True\n",
            "89417  True     True  ...                    True                   True\n",
            "89418  True     True  ...                    True                   True\n",
            "89419  True    False  ...                   False                  False\n",
            "\n",
            "[89420 rows x 17 columns]\n",
            "date                       89420\n",
            "site_id                    89419\n",
            "ad_type_id                 89419\n",
            "geo_id                     89419\n",
            "device_category_id         89419\n",
            "advertiser_id              89419\n",
            "order_id                   89419\n",
            "line_item_type_id          89419\n",
            "os_id                      89419\n",
            "integration_type_id        89419\n",
            "monetization_channel_id    89419\n",
            "ad_unit_id                 89419\n",
            "total_impressions          89419\n",
            "total_revenue              89419\n",
            "viewable_impressions       89419\n",
            "measurable_impressions     89419\n",
            "revenue_share_percent      89419\n",
            "dtype: int64\n",
            "['date', 'site_id', 'ad_type_id', 'geo_id', 'device_category_id', 'advertiser_id', 'os_id', 'integration_type_id', 'monetization_channel_id', 'ad_unit_id', 'total_impressions', 'total_revenue', 'viewable_impressions', 'measurable_impressions', 'revenue_share_percent']\n",
            "89420\n",
            "Enter value of assumed growth rate = 10\n",
            "Enter value of June public revenue =3\n",
            "33.0\n",
            "Enter value of Assumed_June_Reserve_Price=1\n",
            "11.0\n"
          ],
          "name": "stdout"
        }
      ]
    }
  ]
}